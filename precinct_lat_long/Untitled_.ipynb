{
 "cells": [
  {
   "cell_type": "code",
   "execution_count": 6,
   "id": "7047efd6",
   "metadata": {},
   "outputs": [],
   "source": [
    "import pandas as pd\n",
    "import geopandas as gpd\n",
    "import matplotlib.pyplot as plt"
   ]
  },
  {
   "cell_type": "code",
   "execution_count": 8,
   "id": "a422c58c",
   "metadata": {},
   "outputs": [
    {
     "data": {
      "text/html": [
       "<div>\n",
       "<style scoped>\n",
       "    .dataframe tbody tr th:only-of-type {\n",
       "        vertical-align: middle;\n",
       "    }\n",
       "\n",
       "    .dataframe tbody tr th {\n",
       "        vertical-align: top;\n",
       "    }\n",
       "\n",
       "    .dataframe thead th {\n",
       "        text-align: right;\n",
       "    }\n",
       "</style>\n",
       "<table border=\"1\" class=\"dataframe\">\n",
       "  <thead>\n",
       "    <tr style=\"text-align: right;\">\n",
       "      <th></th>\n",
       "      <th>precinct</th>\n",
       "      <th>shape_area</th>\n",
       "      <th>shape_leng</th>\n",
       "      <th>geometry</th>\n",
       "    </tr>\n",
       "  </thead>\n",
       "  <tbody>\n",
       "    <tr>\n",
       "      <th>0</th>\n",
       "      <td>1</td>\n",
       "      <td>47315365.9336</td>\n",
       "      <td>80967.5208351</td>\n",
       "      <td>MULTIPOLYGON (((-74.04388 40.69019, -74.04351 ...</td>\n",
       "    </tr>\n",
       "    <tr>\n",
       "      <th>1</th>\n",
       "      <td>5</td>\n",
       "      <td>18088797.9526</td>\n",
       "      <td>18676.1242594</td>\n",
       "      <td>MULTIPOLYGON (((-73.98864 40.72293, -73.98869 ...</td>\n",
       "    </tr>\n",
       "    <tr>\n",
       "      <th>2</th>\n",
       "      <td>6</td>\n",
       "      <td>22098189.7611</td>\n",
       "      <td>26402.9006911</td>\n",
       "      <td>MULTIPOLYGON (((-73.99968 40.73855, -73.99684 ...</td>\n",
       "    </tr>\n",
       "    <tr>\n",
       "      <th>3</th>\n",
       "      <td>71</td>\n",
       "      <td>45331787.1744</td>\n",
       "      <td>29978.0942611</td>\n",
       "      <td>MULTIPOLYGON (((-73.92854 40.66457, -73.92872 ...</td>\n",
       "    </tr>\n",
       "    <tr>\n",
       "      <th>4</th>\n",
       "      <td>72</td>\n",
       "      <td>104622706.254</td>\n",
       "      <td>88402.0453483</td>\n",
       "      <td>MULTIPOLYGON (((-73.99841 40.67187, -73.99830 ...</td>\n",
       "    </tr>\n",
       "    <tr>\n",
       "      <th>...</th>\n",
       "      <td>...</td>\n",
       "      <td>...</td>\n",
       "      <td>...</td>\n",
       "      <td>...</td>\n",
       "    </tr>\n",
       "    <tr>\n",
       "      <th>72</th>\n",
       "      <td>115</td>\n",
       "      <td>113339985.53</td>\n",
       "      <td>60037.7857414</td>\n",
       "      <td>MULTIPOLYGON (((-73.85908 40.76252, -73.85943 ...</td>\n",
       "    </tr>\n",
       "    <tr>\n",
       "      <th>73</th>\n",
       "      <td>120</td>\n",
       "      <td>232394745.246</td>\n",
       "      <td>92981.0548782</td>\n",
       "      <td>MULTIPOLYGON (((-74.05357 40.60370, -74.05407 ...</td>\n",
       "    </tr>\n",
       "    <tr>\n",
       "      <th>74</th>\n",
       "      <td>121</td>\n",
       "      <td>475561055.46</td>\n",
       "      <td>136826.263467</td>\n",
       "      <td>MULTIPOLYGON (((-74.15946 40.64145, -74.15975 ...</td>\n",
       "    </tr>\n",
       "    <tr>\n",
       "      <th>75</th>\n",
       "      <td>122</td>\n",
       "      <td>454805611.575</td>\n",
       "      <td>154907.185396</td>\n",
       "      <td>MULTIPOLYGON (((-74.05051 40.56642, -74.05047 ...</td>\n",
       "    </tr>\n",
       "    <tr>\n",
       "      <th>76</th>\n",
       "      <td>123</td>\n",
       "      <td>460874322.3</td>\n",
       "      <td>120831.586811</td>\n",
       "      <td>MULTIPOLYGON (((-74.16983 40.56108, -74.16974 ...</td>\n",
       "    </tr>\n",
       "  </tbody>\n",
       "</table>\n",
       "<p>77 rows × 4 columns</p>\n",
       "</div>"
      ],
      "text/plain": [
       "   precinct     shape_area     shape_leng  \\\n",
       "0         1  47315365.9336  80967.5208351   \n",
       "1         5  18088797.9526  18676.1242594   \n",
       "2         6  22098189.7611  26402.9006911   \n",
       "3        71  45331787.1744  29978.0942611   \n",
       "4        72  104622706.254  88402.0453483   \n",
       "..      ...            ...            ...   \n",
       "72      115   113339985.53  60037.7857414   \n",
       "73      120  232394745.246  92981.0548782   \n",
       "74      121   475561055.46  136826.263467   \n",
       "75      122  454805611.575  154907.185396   \n",
       "76      123    460874322.3  120831.586811   \n",
       "\n",
       "                                             geometry  \n",
       "0   MULTIPOLYGON (((-74.04388 40.69019, -74.04351 ...  \n",
       "1   MULTIPOLYGON (((-73.98864 40.72293, -73.98869 ...  \n",
       "2   MULTIPOLYGON (((-73.99968 40.73855, -73.99684 ...  \n",
       "3   MULTIPOLYGON (((-73.92854 40.66457, -73.92872 ...  \n",
       "4   MULTIPOLYGON (((-73.99841 40.67187, -73.99830 ...  \n",
       "..                                                ...  \n",
       "72  MULTIPOLYGON (((-73.85908 40.76252, -73.85943 ...  \n",
       "73  MULTIPOLYGON (((-74.05357 40.60370, -74.05407 ...  \n",
       "74  MULTIPOLYGON (((-74.15946 40.64145, -74.15975 ...  \n",
       "75  MULTIPOLYGON (((-74.05051 40.56642, -74.05047 ...  \n",
       "76  MULTIPOLYGON (((-74.16983 40.56108, -74.16974 ...  \n",
       "\n",
       "[77 rows x 4 columns]"
      ]
     },
     "execution_count": 8,
     "metadata": {},
     "output_type": "execute_result"
    }
   ],
   "source": [
    "df = gpd.read_file('/Users/savannahestridge/Desktop/hate crimes/precinct_lat_long/Police Precincts.geojson')\n",
    "df"
   ]
  },
  {
   "cell_type": "code",
   "execution_count": 9,
   "id": "948e2b15",
   "metadata": {},
   "outputs": [
    {
     "data": {
      "image/png": "[encoded data removed]",
      "text/plain": [
       "<Figure size 432x288 with 1 Axes>"
      ]
     },
     "metadata": {
      "needs_background": "light"
     },
     "output_type": "display_data"
    }
   ],
   "source": [
    "ax = df.plot(color='blue')"
   ]
  },
  {
   "cell_type": "code",
   "execution_count": null,
   "id": "0ada7a08",
   "metadata": {},
   "outputs": [],
   "source": []
  }
 ],
 "metadata": {
  "kernelspec": {
   "display_name": "pythondata",
   "language": "python",
   "name": "pythondata"
  },
  "language_info": {
   "codemirror_mode": {
    "name": "ipython",
    "version": 3
   },
   "file_extension": ".py",
   "mimetype": "text/x-python",
   "name": "python",
   "nbconvert_exporter": "python",
   "pygments_lexer": "ipython3",
   "version": "3.7.7"
  }
 },
 "nbformat": 4,
 "nbformat_minor": 5
}
